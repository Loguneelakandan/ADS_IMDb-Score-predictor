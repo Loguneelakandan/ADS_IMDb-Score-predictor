{
 "cells": [
  {
   "cell_type": "code",
   "execution_count": 29,
   "metadata": {},
   "outputs": [],
   "source": [
    "# IMPORTING THE PACKAGES\n",
    "import pandas as pd\n",
    "import numpy as np\n",
    "import plotly.express as px\n",
    "import matplotlib.pyplot as plt"
   ]
  },
  {
   "cell_type": "code",
   "execution_count": null,
   "metadata": {},
   "outputs": [],
   "source": []
  },
  {
   "cell_type": "code",
   "execution_count": null,
   "metadata": {},
   "outputs": [],
   "source": []
  },
  {
   "cell_type": "code",
   "execution_count": 19,
   "metadata": {},
   "outputs": [],
   "source": [
    "\n",
    "data = pd.read_csv(\"C:\\\\Users\\\\DSCET\\\\Desktop\\\\ads.csv\", encoding='latin-1')\n",
    "\n"
   ]
  },
  {
   "cell_type": "code",
   "execution_count": 20,
   "metadata": {},
   "outputs": [
    {
     "data": {
      "text/html": [
       "<div>\n",
       "<style scoped>\n",
       "    .dataframe tbody tr th:only-of-type {\n",
       "        vertical-align: middle;\n",
       "    }\n",
       "\n",
       "    .dataframe tbody tr th {\n",
       "        vertical-align: top;\n",
       "    }\n",
       "\n",
       "    .dataframe thead th {\n",
       "        text-align: right;\n",
       "    }\n",
       "</style>\n",
       "<table border=\"1\" class=\"dataframe\">\n",
       "  <thead>\n",
       "    <tr style=\"text-align: right;\">\n",
       "      <th></th>\n",
       "      <th>Title</th>\n",
       "      <th>Genre</th>\n",
       "      <th>Premiere</th>\n",
       "      <th>Runtime</th>\n",
       "      <th>IMDB Score</th>\n",
       "      <th>Language</th>\n",
       "    </tr>\n",
       "  </thead>\n",
       "  <tbody>\n",
       "    <tr>\n",
       "      <th>0</th>\n",
       "      <td>Enter the Anime</td>\n",
       "      <td>Documentary</td>\n",
       "      <td>August 5, 2019</td>\n",
       "      <td>58</td>\n",
       "      <td>2.5</td>\n",
       "      <td>English/Japanese</td>\n",
       "    </tr>\n",
       "    <tr>\n",
       "      <th>1</th>\n",
       "      <td>Dark Forces</td>\n",
       "      <td>Thriller</td>\n",
       "      <td>August 21, 2020</td>\n",
       "      <td>81</td>\n",
       "      <td>2.6</td>\n",
       "      <td>Spanish</td>\n",
       "    </tr>\n",
       "    <tr>\n",
       "      <th>2</th>\n",
       "      <td>The App</td>\n",
       "      <td>Science fiction/Drama</td>\n",
       "      <td>December 26, 2019</td>\n",
       "      <td>79</td>\n",
       "      <td>2.6</td>\n",
       "      <td>Italian</td>\n",
       "    </tr>\n",
       "    <tr>\n",
       "      <th>3</th>\n",
       "      <td>The Open House</td>\n",
       "      <td>Horror thriller</td>\n",
       "      <td>January 19, 2018</td>\n",
       "      <td>94</td>\n",
       "      <td>3.2</td>\n",
       "      <td>English</td>\n",
       "    </tr>\n",
       "    <tr>\n",
       "      <th>4</th>\n",
       "      <td>Kaali Khuhi</td>\n",
       "      <td>Mystery</td>\n",
       "      <td>October 30, 2020</td>\n",
       "      <td>90</td>\n",
       "      <td>3.4</td>\n",
       "      <td>Hindi</td>\n",
       "    </tr>\n",
       "  </tbody>\n",
       "</table>\n",
       "</div>"
      ],
      "text/plain": [
       "             Title                  Genre           Premiere  Runtime  \\\n",
       "0  Enter the Anime            Documentary     August 5, 2019       58   \n",
       "1      Dark Forces               Thriller    August 21, 2020       81   \n",
       "2          The App  Science fiction/Drama  December 26, 2019       79   \n",
       "3   The Open House        Horror thriller   January 19, 2018       94   \n",
       "4      Kaali Khuhi                Mystery   October 30, 2020       90   \n",
       "\n",
       "   IMDB Score          Language  \n",
       "0         2.5  English/Japanese  \n",
       "1         2.6           Spanish  \n",
       "2         2.6           Italian  \n",
       "3         3.2           English  \n",
       "4         3.4             Hindi  "
      ]
     },
     "execution_count": 20,
     "metadata": {},
     "output_type": "execute_result"
    }
   ],
   "source": [
    "data.head()"
   ]
  },
  {
   "cell_type": "code",
   "execution_count": 21,
   "metadata": {},
   "outputs": [
    {
     "data": {
      "text/html": [
       "<div>\n",
       "<style scoped>\n",
       "    .dataframe tbody tr th:only-of-type {\n",
       "        vertical-align: middle;\n",
       "    }\n",
       "\n",
       "    .dataframe tbody tr th {\n",
       "        vertical-align: top;\n",
       "    }\n",
       "\n",
       "    .dataframe thead th {\n",
       "        text-align: right;\n",
       "    }\n",
       "</style>\n",
       "<table border=\"1\" class=\"dataframe\">\n",
       "  <thead>\n",
       "    <tr style=\"text-align: right;\">\n",
       "      <th></th>\n",
       "      <th>Title</th>\n",
       "      <th>Genre</th>\n",
       "      <th>Premiere</th>\n",
       "      <th>Runtime</th>\n",
       "      <th>IMDB Score</th>\n",
       "      <th>Language</th>\n",
       "    </tr>\n",
       "  </thead>\n",
       "  <tbody>\n",
       "    <tr>\n",
       "      <th>579</th>\n",
       "      <td>Taylor Swift: Reputation Stadium Tour</td>\n",
       "      <td>Concert Film</td>\n",
       "      <td>December 31, 2018</td>\n",
       "      <td>125</td>\n",
       "      <td>8.4</td>\n",
       "      <td>English</td>\n",
       "    </tr>\n",
       "    <tr>\n",
       "      <th>580</th>\n",
       "      <td>Winter on Fire: Ukraine's Fight for Freedom</td>\n",
       "      <td>Documentary</td>\n",
       "      <td>October 9, 2015</td>\n",
       "      <td>91</td>\n",
       "      <td>8.4</td>\n",
       "      <td>English/Ukranian/Russian</td>\n",
       "    </tr>\n",
       "    <tr>\n",
       "      <th>581</th>\n",
       "      <td>Springsteen on Broadway</td>\n",
       "      <td>One-man show</td>\n",
       "      <td>December 16, 2018</td>\n",
       "      <td>153</td>\n",
       "      <td>8.5</td>\n",
       "      <td>English</td>\n",
       "    </tr>\n",
       "    <tr>\n",
       "      <th>582</th>\n",
       "      <td>Emicida: AmarElo - It's All For Yesterday</td>\n",
       "      <td>Documentary</td>\n",
       "      <td>December 8, 2020</td>\n",
       "      <td>89</td>\n",
       "      <td>8.6</td>\n",
       "      <td>Portuguese</td>\n",
       "    </tr>\n",
       "    <tr>\n",
       "      <th>583</th>\n",
       "      <td>David Attenborough: A Life on Our Planet</td>\n",
       "      <td>Documentary</td>\n",
       "      <td>October 4, 2020</td>\n",
       "      <td>83</td>\n",
       "      <td>9.0</td>\n",
       "      <td>English</td>\n",
       "    </tr>\n",
       "  </tbody>\n",
       "</table>\n",
       "</div>"
      ],
      "text/plain": [
       "                                           Title         Genre  \\\n",
       "579        Taylor Swift: Reputation Stadium Tour  Concert Film   \n",
       "580  Winter on Fire: Ukraine's Fight for Freedom   Documentary   \n",
       "581                      Springsteen on Broadway  One-man show   \n",
       "582    Emicida: AmarElo - It's All For Yesterday   Documentary   \n",
       "583     David Attenborough: A Life on Our Planet   Documentary   \n",
       "\n",
       "              Premiere  Runtime  IMDB Score                  Language  \n",
       "579  December 31, 2018      125         8.4                   English  \n",
       "580    October 9, 2015       91         8.4  English/Ukranian/Russian  \n",
       "581  December 16, 2018      153         8.5                   English  \n",
       "582   December 8, 2020       89         8.6                Portuguese  \n",
       "583    October 4, 2020       83         9.0                   English  "
      ]
     },
     "execution_count": 21,
     "metadata": {},
     "output_type": "execute_result"
    }
   ],
   "source": [
    "data.tail()"
   ]
  },
  {
   "cell_type": "code",
   "execution_count": 22,
   "metadata": {},
   "outputs": [
    {
     "data": {
      "text/plain": [
       "3504"
      ]
     },
     "execution_count": 22,
     "metadata": {},
     "output_type": "execute_result"
    }
   ],
   "source": [
    "data.size"
   ]
  },
  {
   "cell_type": "code",
   "execution_count": 23,
   "metadata": {},
   "outputs": [
    {
     "data": {
      "text/html": [
       "<div>\n",
       "<style scoped>\n",
       "    .dataframe tbody tr th:only-of-type {\n",
       "        vertical-align: middle;\n",
       "    }\n",
       "\n",
       "    .dataframe tbody tr th {\n",
       "        vertical-align: top;\n",
       "    }\n",
       "\n",
       "    .dataframe thead th {\n",
       "        text-align: right;\n",
       "    }\n",
       "</style>\n",
       "<table border=\"1\" class=\"dataframe\">\n",
       "  <thead>\n",
       "    <tr style=\"text-align: right;\">\n",
       "      <th></th>\n",
       "      <th>Runtime</th>\n",
       "      <th>IMDB Score</th>\n",
       "    </tr>\n",
       "  </thead>\n",
       "  <tbody>\n",
       "    <tr>\n",
       "      <th>count</th>\n",
       "      <td>584.000000</td>\n",
       "      <td>584.000000</td>\n",
       "    </tr>\n",
       "    <tr>\n",
       "      <th>mean</th>\n",
       "      <td>93.577055</td>\n",
       "      <td>6.271747</td>\n",
       "    </tr>\n",
       "    <tr>\n",
       "      <th>std</th>\n",
       "      <td>27.761683</td>\n",
       "      <td>0.979256</td>\n",
       "    </tr>\n",
       "    <tr>\n",
       "      <th>min</th>\n",
       "      <td>4.000000</td>\n",
       "      <td>2.500000</td>\n",
       "    </tr>\n",
       "    <tr>\n",
       "      <th>25%</th>\n",
       "      <td>86.000000</td>\n",
       "      <td>5.700000</td>\n",
       "    </tr>\n",
       "    <tr>\n",
       "      <th>50%</th>\n",
       "      <td>97.000000</td>\n",
       "      <td>6.350000</td>\n",
       "    </tr>\n",
       "    <tr>\n",
       "      <th>75%</th>\n",
       "      <td>108.000000</td>\n",
       "      <td>7.000000</td>\n",
       "    </tr>\n",
       "    <tr>\n",
       "      <th>max</th>\n",
       "      <td>209.000000</td>\n",
       "      <td>9.000000</td>\n",
       "    </tr>\n",
       "  </tbody>\n",
       "</table>\n",
       "</div>"
      ],
      "text/plain": [
       "          Runtime  IMDB Score\n",
       "count  584.000000  584.000000\n",
       "mean    93.577055    6.271747\n",
       "std     27.761683    0.979256\n",
       "min      4.000000    2.500000\n",
       "25%     86.000000    5.700000\n",
       "50%     97.000000    6.350000\n",
       "75%    108.000000    7.000000\n",
       "max    209.000000    9.000000"
      ]
     },
     "execution_count": 23,
     "metadata": {},
     "output_type": "execute_result"
    }
   ],
   "source": [
    "data.describe()"
   ]
  },
  {
   "cell_type": "code",
   "execution_count": 24,
   "metadata": {},
   "outputs": [
    {
     "name": "stdout",
     "output_type": "stream",
     "text": [
      "<class 'pandas.core.frame.DataFrame'>\n",
      "RangeIndex: 584 entries, 0 to 583\n",
      "Data columns (total 6 columns):\n",
      " #   Column      Non-Null Count  Dtype  \n",
      "---  ------      --------------  -----  \n",
      " 0   Title       584 non-null    object \n",
      " 1   Genre       584 non-null    object \n",
      " 2   Premiere    584 non-null    object \n",
      " 3   Runtime     584 non-null    int64  \n",
      " 4   IMDB Score  584 non-null    float64\n",
      " 5   Language    584 non-null    object \n",
      "dtypes: float64(1), int64(1), object(4)\n",
      "memory usage: 27.5+ KB\n"
     ]
    }
   ],
   "source": [
    "data.info()"
   ]
  },
  {
   "cell_type": "code",
   "execution_count": 25,
   "metadata": {},
   "outputs": [
    {
     "data": {
      "text/plain": [
       "Title         0\n",
       "Genre         0\n",
       "Premiere      0\n",
       "Runtime       0\n",
       "IMDB Score    0\n",
       "Language      0\n",
       "dtype: int64"
      ]
     },
     "execution_count": 25,
     "metadata": {},
     "output_type": "execute_result"
    }
   ],
   "source": [
    "data.isnull().sum()"
   ]
  },
  {
   "cell_type": "code",
   "execution_count": 32,
   "metadata": {},
   "outputs": [
    {
     "data": {
      "application/vnd.plotly.v1+json": {
       "config": {
        "plotlyServerURL": "https://plot.ly"
       },
       "data": [
        {
         "alignmentgroup": "True",
         "hovertemplate": "Title=%{x}<br>IMDB Score=%{y}<extra></extra>",
         "legendgroup": "",
         "marker": {
          "color": "#636efa",
          "pattern": {
           "shape": ""
          }
         },
         "name": "",
         "offsetgroup": "",
         "orientation": "v",
         "showlegend": false,
         "textposition": "auto",
         "type": "bar",
         "x": [
          "Enter the Anime",
          "Dark Forces",
          "The App",
          "The Open House",
          "Kaali Khuhi",
          "Drive",
          "Leyla Everlasting",
          "The Last Days of American Crime",
          "Paradox",
          "Sardar Ka Grandson",
          "Searching for Sheela",
          "The Call",
          "Whipped",
          "All Because of You",
          "Mercy",
          "After the Raid",
          "Ghost Stories",
          "The Last Thing He Wanted",
          "What Happened to Mr. Cha?",
          "Death Note",
          "Hello Privilege. It's Me, Chelsea",
          "Secret Obsession",
          "Sextuplets",
          "The Girl on the Train",
          "Thunder Force",
          "Fatal Affair",
          "Just Say Yes",
          "Seriously Single",
          "The Misadventures of Hedi and Cokeman",
          "5 Star Christmas",
          "After Maria",
          "I Am the Pretty Thing That Lives in the House",
          "Paris Is Us",
          "Porta dos Fundos: The First Temptation of Christ",
          "Rattlesnake",
          "The Players",
          "We Are One",
          "Finding Agnes",
          "IO",
          "Sentinelle",
          "Sol Levante",
          "The Binding",
          "We Can Be Heroes",
          "Christmas Crossfire",
          "Coin Heist",
          "Mrs. Serial Killer",
          "Nobody Sleeps in the Woods Tonight",
          "Take the 10",
          "The Main Event",
          "The Ridiculous 6",
          "Earth and Blood",
          "Fearless",
          "Holiday Rush",
          "The Day of the Lord",
          "Airplane Mode",
          "How It Ends",
          "Love Like the Falling Rain",
          "Rebirth",
          "Squared Love",
          "Cadaver",
          "Clinical",
          "Coffee & Kareem",
          "Dude",
          "Geez & Ann",
          "The Larva Island Movie",
          "#REALITYHIGH",
          "American Factory: A Conversation with the Obamas ",
          "Desperados",
          "Dolly Parton's Christmas on the Square",
          "Father of the Year",
          "Firebrand",
          "Ghost Lab",
          "Girlfriend's Day",
          "Handsome: A Netflix Mystery Movie",
          "Hubie Halloween",
          "Ibiza",
          "Rim of the World",
          "Sandy Wexler",
          "See You Yesterday",
          "Still Laugh-In: The Stars Celebrate",
          "Strip Down, Rise Up",
          "Tall Girl",
          "The Beast",
          "The Week Of",
          "A Christmas Prince: The Royal Wedding",
          "Back to School",
          "Dangerous Lies",
          "Gunjan Saxena: The Kargil Girl",
          "Intuition",
          "The Most Assassinated Woman in the World",
          "Things Heard & Seen",
          "To Each, Her Own",
          "Who Would You Take to a Deserted Island?",
          "XOXO",
          "A Babysitter's Guide to Monster Hunting",
          "A Christmas Prince: The Royal Baby",
          "Despite Everything",
          "Dolly Kitty and Those Twinkling Stars",
          "Freaks: You're One of Us",
          "Game Over, Man!",
          "Guilty",
          "In the Tall Grass",
          "Madame Claude",
          "Naked",
          "Outside the Wire",
          "The Princess Switch: Switched Again",
          "Under the Riccione Sun",
          "A Very Murray Christmas",
          "Been So Long",
          "Dead Kids",
          "Get the Grift",
          "Ghosts of Sugar Land",
          "House Arrest",
          "Kevin Hart's Guide to Black History",
          "Love Wedding Repeat",
          "Mute",
          "Òlòt?ré",
          "Red Dot",
          "Ride or Die",
          "Step Sisters",
          "The Cloverfield Paradox",
          "The Knight Before Christmas",
          "The Legacy of a Whitetail Deer Hunter",
          "The Package",
          "Unicorn Store",
          "Wine Country",
          "Bomb Scared",
          "Brahman Naman",
          "Double Dad",
          "Falling Inn Love",
          "Hold the Dark",
          "Love, Guaranteed",
          "One-Way to Tomorrow",
          "Sarah Cooper: Everything's Fine",
          "The Last Laugh",
          "The Last Paradiso",
          "The Midnight Sky",
          "The Paramedic",
          "The Sleepover",
          "Vampires vs. the Bronx",
          "Why Did You Kill Me?",
          "A Week Away",
          "Caught by a Wave",
          "Christmas Inheritance",
          "Dad Wanted",
          "El Camino Christmas",
          "Eli",
          "Ginny Weds Sunny",
          "Good Sam",
          "Lionheart",
          "Little Evil",
          "One Take",
          "Out of Many, One",
          "Point Blank",
          "Prime Time",
          "The Do-Over",
          "The Holiday Calendar",
          "The Woman in the Window",
          "The Wrong Missy",
          "Velvet Buzzsaw",
          "Yes Day",
          "15 August",
          "A California Christmas",
          "A Christmas Prince",
          "All Day and a Night",
          "American Son",
          "Barry",
          "Candy Jar",
          "Choked: Paisa Bolta Hai",
          "Class of '83",
          "Extinction",
          "Happy Anniversary",
          "I Am All Girls",
          "Let It Snow",
          "Mascots",
          "Operation Christmas Drop",
          "Rajma Chawal",
          "Rich in Love",
          "Rising High",
          "Rodney King",
          "Sierra Burgess Is a Loser",
          "Small Crimes",
          "Special Correspondents",
          "TAU",
          "The After Party",
          "The Babysitter: Killer Queen",
          "The Claus Family",
          "The Kissing Booth 2",
          "The Perfect Date",
          "What We Wanted",
          "You've Got This",
          "6 Balloons",
          "A Fall from Grace",
          "Amateur",
          "Army of the Dead",
          "Cam",
          "Earthquake Bird",
          "Frankenstein's Monster's Monster, Frankenstein",
          "Horse Girl",
          "Notes from Dunblane: Lesson from a School Shooting",
          "Maska",
          "The Decline",
          "The Minimalists: Less Is Now",
          "The Polka King",
          "The Prom",
          "True Memoirs of an International Assassin",
          "Ultras",
          "Come Sunday",
          "Forgive Us Our Debts",
          "iBoy",
          "Lovefucked",
          "Juanita",
          "Murder Mystery",
          "Project Power",
          "Rebecca",
          "The Christmas Chronicles: Part Two",
          "The Kissing Booth",
          "The Princess Switch",
          "To All the Boys: P.S. I Still Love You",
          "War Machine",
          "6 Underground",
          "Between Two Ferns: The Movie",
          "Burning Sands",
          "Casting JonBenet",
          "Deidra & Laney Rob a Train",
          "Finding 'Ohana",
          "Holidate",
          "Holiday in the Wild",
          "Hot Girls Wanted",
          "Like Father",
          "Lost Girls",
          "Otherhood",
          "Pee-wee's Big Holiday",
          "Rogue City",
          "Sergio",
          "Stuck Apart",
          "Tersanjung the Movie",
          "The Killer",
          "The Lovebirds",
          "The Most Hated Woman in America",
          "The Perfection",
          "Tribhanga  Tedhi Medhi Crazy",
          "Unknown Origins",
          "Work It",
          "Alien Xmas",
          "Baggio: The Divine Ponytail",
          "Below Zero",
          "Citation",
          "Crazy Awesome Teachers",
          "Have You Ever Seen Fireflies?",
          "High Flying Bird",
          "In the Shadow of the Moon",
          "Lost Bullet",
          "Octonauts & the Caves of Sac Actun",
          "Offering to the Storm",
          "Roxanne Roxanne",
          "Someone Great",
          "Spenser Confidential",
          "The Land of Steady Habits",
          "The Rachel Divide",
          "Voyuer ",
          "Win It All",
          "1922",
          "A Tale of Two Kitchens",
          "Alex Strangelove",
          "Apostle",
          "Benji",
          "Bright",
          "Cargo",
          "Concrete Cowboy",
          "Feel the Beat",
          "Get the Goat",
          "I Am Not an Easy Man",
          "June & Kopi",
          "Music Teacher",
          "Nail Bomber: Manhunt",
          "Notes for My Son",
          "Polar",
          "Porta dos Fundos: The Last Hangover",
          "Sand Castle",
          "Shimmer Lake",
          "Spectral",
          "The Babysitter",
          "The Discovery",
          "The Forest of Love",
          "The Laundromat",
          "The Legend of Cocaine Island",
          "The Outsider",
          "Time to Hunt",
          "To All the Boys: Always and Forever",
          "Travis Scott: Look Mom I Can Fly",
          "Uncorked",
          "Anelka: Misunderstood",
          "Ariana Grande: Excuse Me, I Love You",
          "ARQ",
          "Birders",
          "Como Caído del Cielo",
          "First Match",
          "Fractured",
          "Irreplaceable You",
          "Isi & Ossi",
          "John Was Trying to Contact Aliens",
          "Layla Majnun",
          "Murder to Mercy: The Cyntoia Brown Story",
          "My Own Man",
          "Nappily Ever After",
          "Over the Moon",
          "Street Flow",
          "Strong Island",
          "Sturgill Simpson Presents: Sound & Fury",
          "Take Your Pills",
          "The Heartbreak Club",
          "The Mars Generation",
          "The Occupant",
          "The Willoughbys",
          "Triple Frontier",
          "Two Catalonias",
          "Walk. Ride. Rodeo.",
          "Wheelman",
          "When We First Met",
          "A 3 Minute Hug",
          "All the Bright Places",
          "All Together Now",
          "Altered Carbon: Resleeved",
          "Antoine Griezmann: The Making of a Legend",
          "Canvas ",
          "Chadwick Boseman: Portrait of an Artist",
          "Chopsticks",
          "Da 5 Bloods",
          "Dolly Parton: A MusiCares Tribute",
          "Eurovision Song Contest: The Story of Fire Saga",
          "Gerald's Game",
          "His House",
          "Jingle Jangle: A Christmas Journey",
          "Life Overtakes Me",
          "Lust Stories",
          "Monster",
          "Mowgli: Legend of the Jungle",
          "Nobody Knows I'm Here",
          "Nobody Speak: Trials of the Free Press",
          "Oxygen",
          "Set It Up",
          "The Incredible Jessica James",
          "Tigertail",
          "Tramps",
          "What Did Jack Do?",
          "Bad Trip",
          "Bird Box",
          "Bulbbul",
          "Crazy About Her",
          "Elisa & Marcela",
          "I'll Sleep When I'm Dead",
          "I'm Thinking of Ending Things",
          "It Takes a Lunatic",
          "Milestone",
          "Recovery Boys",
          "ReMastered: Who Killed Jam Master Jay?",
          "Shawn Mendes: In Wonder",
          "Space Sweepers",
          "The American Meme",
          "The Angel",
          "The Crimes That Bind",
          "The Red Sea Diving Resort",
          "What Would Sophia Loren Do?",
          "A Whisker Away",
          "Ajeeb Daastaans",
          "Arlo the Alligator Boy",
          "Bikram: Yogi, Guru, Predator",
          "Blame!",
          "Blue Miracle",
          "CounterPunch ",
          "Crack: Cocaine, Corruption & Conspiracy",
          "Extraction",
          "Giving Voice",
          "Hillbilly Elegy",
          "Hope Frozen: A Quest to Live Twice",
          "Imperial Dreams",
          "Just Another Christmas",
          "Little Miss Sumo",
          "Malcolm & Marie",
          "Michael Bolton's Big, Sexy, Valentine's Day Special",
          "Moxie",
          "Night in Paradise",
          "Paper Lives",
          "Parchis: The Documentary",
          "Tallulah",
          "The Old Guard",
          "Tony Robbins: I Am Not Your Guru",
          "Upstarts",
          "22 July",
          "7 años",
          "A Futile and Stupid Gesture",
          "A Life of Speed: The Juan Manuel Fangio Story",
          "A Love Song for Latasha",
          "All in My Family",
          "Always Be My Maybe",
          "Becoming",
          "Long Live Brij Mohan",
          "Calibre",
          "Death to 2020",
          "GIMS: On the Record",
          "Have a Good Trip: Adventures in Psychedelics",
          "Heroin(e) ",
          "Mercury 13",
          "Saving Capitalism",
          "Serious Men",
          "The Boys in the Band",
          "The Boys in the Band: Something Personal",
          "The Life Ahead",
          "The Other Side of the Wind",
          "The Trader",
          "To the Bone",
          "Tony Parker: The Final Shot",
          "AK vs AK",
          "Amanda Knox",
          "Bigflo & Oil: Hip Hop Frenzy",
          "Biggie: I Got a Story to Tell",
          "Cops and Robbers",
          "I Don't Feel at Home in This World Anymore",
          "Laerte-se",
          "Mank",
          "Our Souls at Night",
          "Outlaw King",
          "Pagglait",
          "ReMastered: Who Shot the Sheriff?",
          "Seeing Allred",
          "Spelling the Dream",
          "The Claudia Kishi Club",
          "The Half of It",
          "The Highwaymen",
          "The Lonely Island Presents: The Unauthorized Bash Brothers Experience",
          "The Meyerowitz Stories (New and Selected)",
          "Feminists: What Were They Thinking?",
          "Gaga: Five Foot Two",
          "I'm No Longer Here: A Discussion with Guillermo del Toro and Alfonso Cuaron",
          "Kingdom of Us",
          "Lorena, Light-Footed Woman",
          "Los Tigres del Norte at Folsom Prison",
          "Ma Rainey's Black Bottom",
          "Ma Rainey's Black Bottom: A Legacy Brought to Screen",
          "Operation Varsity Blues: The College Admissions Scandal",
          "Pele",
          "ReMastered: Devil at the Crossroads",
          "ReMastered: The Lion's Share",
          "ReMastered: The Miami Showband Massacre",
          "Resurface",
          "Rocko's Modern Life: Static Cling",
          "Rose Island",
          "The Christmas Chronicles",
          "The Dirt",
          "The Night Comes for Us",
          "13th: A Conversation with Oprah Winfrey & Ava DuVernay",
          "Angela's Christmas",
          "Angela's Christmas Wish",
          "Beats",
          "Circus of Books",
          "Dance Dreams: Hot Chocolate Nutcracker",
          "Derren Brown: Sacrifice",
          "El Pepe: A Supreme Life",
          "End Game",
          "Evelyn",
          "Ferry",
          "Grass Is Greener",
          "Guillermo Vilas: Settling the Score",
          "Joshua: Teenager vs. Superpower",
          "Keith Richards: Under the Influence",
          "Knock Down the House",
          "Loudon Wainwright III: Surviving Twin",
          "My Beautiful Broken Brain",
          "One of Us",
          "Pieces of a Woman",
          "Ram Dass, Going Home",
          "ReMastered: Tricky Dick & the Man in Black",
          "Rooting for Roona",
          "The Devil All the Time",
          "The Dig",
          "The Great Hack",
          "The White Tiger",
          "To All the Boys I've Loved Before",
          "American Murder: The Family Next Door",
          "Audrie & Daisy",
          "First They Killed My Father",
          "Fyre: The Greatest Party That Never Happened",
          "Into the Inferno",
          "LA Originals",
          "Ladies First",
          "Love per Square Foot",
          "Paddleton",
          "Private Life",
          "Seventeen",
          "Sometimes",
          "Soni",
          "The 40-Year-Old Version",
          "The Disciple",
          "The Edge of Democracy",
          "The King",
          "The Road to El Camino: A Breaking Bad Movie",
          "The Siege of Jadotville",
          "Zion ",
          "Dolemite Is My Name",
          "El Camino: A Breaking Bad Movie",
          "Extremis",
          "Father Soldier Son",
          "Get Me Roger Stone",
          "I'm No Longer Here",
          "Mucho Mucho Amor: The Legend of Walter Mercado ",
          "Octonauts & the Great Barrier Reef",
          "Okja",
          "On My Skin",
          "Raat Akeli Hai",
          "ReMastered: Massacre at the Stadium",
          "ReMastered: The Two Killings of Sam Cooke",
          "Secrets of the Saqqara Tomb",
          "Sitara: Let Girls Dream",
          "Sky Ladder: The Art of Cai Guo-Qiang",
          "Team Foxcatcher",
          "The Ballad of Buster Scruggs",
          "The Death and Life of Marsha P. Johnson",
          "The Fundamentals of Caring",
          "The Other One: The Long Strange Trip of Bob Weir",
          "American Factory",
          "Fire in Paradise",
          "Long Shot",
          "Miss Americana",
          "Period. End of Sentence.",
          "Shawn Mendes: Live in Concert",
          "Shirkers",
          "The Black Godfather",
          "The Irishman: In Conversation",
          "The Speed Cubers",
          "They'll Love Me When I'm Dead",
          "Tig",
          "Barbra: The Music, The Mem'ries, The Magic!",
          "Blackpink: Light Up the Sky",
          "City of Joy",
          "Dick Johnson Is Dead",
          "Homecoming: A Film by Beyonce ",
          "Invader Zim: Enter the Florpus",
          "Joan Didion: The Center Will Not Hold",
          "John Mulaney & the Sack Lunch Bunch",
          "Reversing Roe",
          "The White Helmets",
          "Athlete A",
          "Ludo",
          "Quincy",
          "Rolling Thunder Revue: A bob Dylan Story by Martin Scorsere",
          "Tell Me Who I Am",
          "The Bleeding Edge",
          "The Social Dilemma",
          "The Two Popes",
          "What Happened, Miss Simone?",
          "Yeh Ballet",
          "Anima",
          "Beasts of No Nation",
          "Brene Brown: The Call to Courage",
          "Crip Camp: A Disability Revolution",
          "Jim & Andy: The Great Beyond - Featuring a Very Special, Contractually Obligated Mention of Tony Cliffton ",
          "Justin Timberlake + The Tennessee Kids",
          "Road to Roma",
          "Roma",
          "If Anything Happens I Love You",
          "The Irishman",
          "The Trial of the Chicago 7",
          "A Secret Love",
          "Icarus",
          "Marriage Story",
          "The Ivory Game",
          "Struggle: The Life and Lost Art of Szukaiski",
          "Chasing Coral ",
          "My Octopus Teacher",
          "Rising Phoenix",
          "13th",
          "Disclosure: Trans Lives on Screen",
          "Klaus",
          "Seaspiracy",
          "The Three Deaths of Marisela Escobedo",
          "Cuba and the Cameraman ",
          "Dancing with the Birds",
          "Ben Platt: Live from Radio City Music Hall",
          "Taylor Swift: Reputation Stadium Tour",
          "Winter on Fire: Ukraine's Fight for Freedom",
          "Springsteen on Broadway",
          "Emicida: AmarElo - It's All For Yesterday",
          "David Attenborough: A Life on Our Planet"
         ],
         "xaxis": "x",
         "y": [
          2.5,
          2.6,
          2.6,
          3.2,
          3.4,
          3.5,
          3.7,
          3.7,
          3.9,
          4.1,
          4.1,
          4.1,
          4.1,
          4.2,
          4.2,
          4.3,
          4.3,
          4.3,
          4.3,
          4.4,
          4.4,
          4.4,
          4.4,
          4.4,
          4.4,
          4.5,
          4.5,
          4.5,
          4.5,
          4.6,
          4.6,
          4.6,
          4.6,
          4.6,
          4.6,
          4.6,
          4.6,
          4.7,
          4.7,
          4.7,
          4.7,
          4.7,
          4.7,
          4.8,
          4.8,
          4.8,
          4.8,
          4.8,
          4.8,
          4.8,
          4.9,
          4.9,
          4.9,
          4.9,
          5,
          5,
          5,
          5,
          5,
          5.1,
          5.1,
          5.1,
          5.1,
          5.1,
          5.1,
          5.2,
          5.2,
          5.2,
          5.2,
          5.2,
          5.2,
          5.2,
          5.2,
          5.2,
          5.2,
          5.2,
          5.2,
          5.2,
          5.2,
          5.2,
          5.2,
          5.2,
          5.2,
          5.2,
          5.3,
          5.3,
          5.3,
          5.3,
          5.3,
          5.3,
          5.3,
          5.3,
          5.3,
          5.3,
          5.4,
          5.4,
          5.4,
          5.4,
          5.4,
          5.4,
          5.4,
          5.4,
          5.4,
          5.4,
          5.4,
          5.4,
          5.4,
          5.5,
          5.5,
          5.5,
          5.5,
          5.5,
          5.5,
          5.5,
          5.5,
          5.5,
          5.5,
          5.5,
          5.5,
          5.5,
          5.5,
          5.5,
          5.5,
          5.5,
          5.5,
          5.5,
          5.6,
          5.6,
          5.6,
          5.6,
          5.6,
          5.6,
          5.6,
          5.6,
          5.6,
          5.6,
          5.6,
          5.6,
          5.6,
          5.6,
          5.6,
          5.7,
          5.7,
          5.7,
          5.7,
          5.7,
          5.7,
          5.7,
          5.7,
          5.7,
          5.7,
          5.7,
          5.7,
          5.7,
          5.7,
          5.7,
          5.7,
          5.7,
          5.7,
          5.7,
          5.7,
          5.8,
          5.8,
          5.8,
          5.8,
          5.8,
          5.8,
          5.8,
          5.8,
          5.8,
          5.8,
          5.8,
          5.8,
          5.8,
          5.8,
          5.8,
          5.8,
          5.8,
          5.8,
          5.8,
          5.8,
          5.8,
          5.8,
          5.8,
          5.8,
          5.8,
          5.8,
          5.8,
          5.8,
          5.8,
          5.8,
          5.9,
          5.9,
          5.9,
          5.9,
          5.9,
          5.9,
          5.9,
          5.9,
          5.9,
          5.9,
          5.9,
          5.9,
          5.9,
          5.9,
          5.9,
          5.9,
          6,
          6,
          6,
          6,
          6,
          6,
          6,
          6,
          6,
          6,
          6,
          6,
          6,
          6.1,
          6.1,
          6.1,
          6.1,
          6.1,
          6.1,
          6.1,
          6.1,
          6.1,
          6.1,
          6.1,
          6.1,
          6.1,
          6.1,
          6.1,
          6.1,
          6.1,
          6.1,
          6.1,
          6.1,
          6.1,
          6.1,
          6.1,
          6.1,
          6.2,
          6.2,
          6.2,
          6.2,
          6.2,
          6.2,
          6.2,
          6.2,
          6.2,
          6.2,
          6.2,
          6.2,
          6.2,
          6.2,
          6.2,
          6.2,
          6.2,
          6.2,
          6.3,
          6.3,
          6.3,
          6.3,
          6.3,
          6.3,
          6.3,
          6.3,
          6.3,
          6.3,
          6.3,
          6.3,
          6.3,
          6.3,
          6.3,
          6.3,
          6.3,
          6.3,
          6.3,
          6.3,
          6.3,
          6.3,
          6.3,
          6.3,
          6.3,
          6.3,
          6.3,
          6.3,
          6.3,
          6.3,
          6.4,
          6.4,
          6.4,
          6.4,
          6.4,
          6.4,
          6.4,
          6.4,
          6.4,
          6.4,
          6.4,
          6.4,
          6.4,
          6.4,
          6.4,
          6.4,
          6.4,
          6.4,
          6.4,
          6.4,
          6.4,
          6.4,
          6.4,
          6.4,
          6.4,
          6.4,
          6.4,
          6.4,
          6.5,
          6.5,
          6.5,
          6.5,
          6.5,
          6.5,
          6.5,
          6.5,
          6.5,
          6.5,
          6.5,
          6.5,
          6.5,
          6.5,
          6.5,
          6.5,
          6.5,
          6.5,
          6.5,
          6.5,
          6.5,
          6.5,
          6.5,
          6.5,
          6.5,
          6.5,
          6.6,
          6.6,
          6.6,
          6.6,
          6.6,
          6.6,
          6.6,
          6.6,
          6.6,
          6.6,
          6.6,
          6.6,
          6.6,
          6.6,
          6.6,
          6.6,
          6.6,
          6.6,
          6.7,
          6.7,
          6.7,
          6.7,
          6.7,
          6.7,
          6.7,
          6.7,
          6.7,
          6.7,
          6.7,
          6.7,
          6.7,
          6.7,
          6.7,
          6.7,
          6.7,
          6.7,
          6.7,
          6.7,
          6.7,
          6.7,
          6.7,
          6.7,
          6.7,
          6.8,
          6.8,
          6.8,
          6.8,
          6.8,
          6.8,
          6.8,
          6.8,
          6.8,
          6.8,
          6.8,
          6.8,
          6.8,
          6.8,
          6.8,
          6.8,
          6.8,
          6.8,
          6.8,
          6.8,
          6.8,
          6.8,
          6.8,
          6.8,
          6.9,
          6.9,
          6.9,
          6.9,
          6.9,
          6.9,
          6.9,
          6.9,
          6.9,
          6.9,
          6.9,
          6.9,
          6.9,
          6.9,
          6.9,
          6.9,
          6.9,
          6.9,
          6.9,
          7,
          7,
          7,
          7,
          7,
          7,
          7,
          7,
          7,
          7,
          7,
          7,
          7,
          7,
          7,
          7,
          7,
          7,
          7,
          7.1,
          7.1,
          7.1,
          7.1,
          7.1,
          7.1,
          7.1,
          7.1,
          7.1,
          7.1,
          7.1,
          7.1,
          7.1,
          7.1,
          7.1,
          7.1,
          7.1,
          7.1,
          7.1,
          7.1,
          7.1,
          7.1,
          7.1,
          7.1,
          7.1,
          7.1,
          7.1,
          7.1,
          7.2,
          7.2,
          7.2,
          7.2,
          7.2,
          7.2,
          7.2,
          7.2,
          7.2,
          7.2,
          7.2,
          7.2,
          7.2,
          7.2,
          7.2,
          7.2,
          7.2,
          7.2,
          7.2,
          7.2,
          7.3,
          7.3,
          7.3,
          7.3,
          7.3,
          7.3,
          7.3,
          7.3,
          7.3,
          7.3,
          7.3,
          7.3,
          7.3,
          7.3,
          7.3,
          7.3,
          7.3,
          7.3,
          7.3,
          7.3,
          7.3,
          7.4,
          7.4,
          7.4,
          7.4,
          7.4,
          7.4,
          7.4,
          7.4,
          7.4,
          7.4,
          7.4,
          7.4,
          7.5,
          7.5,
          7.5,
          7.5,
          7.5,
          7.5,
          7.5,
          7.5,
          7.5,
          7.5,
          7.6,
          7.6,
          7.6,
          7.6,
          7.6,
          7.6,
          7.6,
          7.6,
          7.6,
          7.6,
          7.7,
          7.7,
          7.7,
          7.7,
          7.7,
          7.7,
          7.7,
          7.7,
          7.8,
          7.8,
          7.8,
          7.9,
          7.9,
          7.9,
          7.9,
          8,
          8.1,
          8.1,
          8.1,
          8.2,
          8.2,
          8.2,
          8.2,
          8.2,
          8.3,
          8.3,
          8.4,
          8.4,
          8.4,
          8.5,
          8.6,
          9
         ],
         "yaxis": "y"
        }
       ],
       "layout": {
        "barmode": "relative",
        "legend": {
         "tracegroupgap": 0
        },
        "margin": {
         "t": 60
        },
        "template": {
         "data": {
          "bar": [
           {
            "error_x": {
             "color": "#2a3f5f"
            },
            "error_y": {
             "color": "#2a3f5f"
            },
            "marker": {
             "line": {
              "color": "#E5ECF6",
              "width": 0.5
             },
             "pattern": {
              "fillmode": "overlay",
              "size": 10,
              "solidity": 0.2
             }
            },
            "type": "bar"
           }
          ],
          "barpolar": [
           {
            "marker": {
             "line": {
              "color": "#E5ECF6",
              "width": 0.5
             },
             "pattern": {
              "fillmode": "overlay",
              "size": 10,
              "solidity": 0.2
             }
            },
            "type": "barpolar"
           }
          ],
          "carpet": [
           {
            "aaxis": {
             "endlinecolor": "#2a3f5f",
             "gridcolor": "white",
             "linecolor": "white",
             "minorgridcolor": "white",
             "startlinecolor": "#2a3f5f"
            },
            "baxis": {
             "endlinecolor": "#2a3f5f",
             "gridcolor": "white",
             "linecolor": "white",
             "minorgridcolor": "white",
             "startlinecolor": "#2a3f5f"
            },
            "type": "carpet"
           }
          ],
          "choropleth": [
           {
            "colorbar": {
             "outlinewidth": 0,
             "ticks": ""
            },
            "type": "choropleth"
           }
          ],
          "contour": [
           {
            "colorbar": {
             "outlinewidth": 0,
             "ticks": ""
            },
            "colorscale": [
             [
              0,
              "#0d0887"
             ],
             [
              0.1111111111111111,
              "#46039f"
             ],
             [
              0.2222222222222222,
              "#7201a8"
             ],
             [
              0.3333333333333333,
              "#9c179e"
             ],
             [
              0.4444444444444444,
              "#bd3786"
             ],
             [
              0.5555555555555556,
              "#d8576b"
             ],
             [
              0.6666666666666666,
              "#ed7953"
             ],
             [
              0.7777777777777778,
              "#fb9f3a"
             ],
             [
              0.8888888888888888,
              "#fdca26"
             ],
             [
              1,
              "#f0f921"
             ]
            ],
            "type": "contour"
           }
          ],
          "contourcarpet": [
           {
            "colorbar": {
             "outlinewidth": 0,
             "ticks": ""
            },
            "type": "contourcarpet"
           }
          ],
          "heatmap": [
           {
            "colorbar": {
             "outlinewidth": 0,
             "ticks": ""
            },
            "colorscale": [
             [
              0,
              "#0d0887"
             ],
             [
              0.1111111111111111,
              "#46039f"
             ],
             [
              0.2222222222222222,
              "#7201a8"
             ],
             [
              0.3333333333333333,
              "#9c179e"
             ],
             [
              0.4444444444444444,
              "#bd3786"
             ],
             [
              0.5555555555555556,
              "#d8576b"
             ],
             [
              0.6666666666666666,
              "#ed7953"
             ],
             [
              0.7777777777777778,
              "#fb9f3a"
             ],
             [
              0.8888888888888888,
              "#fdca26"
             ],
             [
              1,
              "#f0f921"
             ]
            ],
            "type": "heatmap"
           }
          ],
          "heatmapgl": [
           {
            "colorbar": {
             "outlinewidth": 0,
             "ticks": ""
            },
            "colorscale": [
             [
              0,
              "#0d0887"
             ],
             [
              0.1111111111111111,
              "#46039f"
             ],
             [
              0.2222222222222222,
              "#7201a8"
             ],
             [
              0.3333333333333333,
              "#9c179e"
             ],
             [
              0.4444444444444444,
              "#bd3786"
             ],
             [
              0.5555555555555556,
              "#d8576b"
             ],
             [
              0.6666666666666666,
              "#ed7953"
             ],
             [
              0.7777777777777778,
              "#fb9f3a"
             ],
             [
              0.8888888888888888,
              "#fdca26"
             ],
             [
              1,
              "#f0f921"
             ]
            ],
            "type": "heatmapgl"
           }
          ],
          "histogram": [
           {
            "marker": {
             "pattern": {
              "fillmode": "overlay",
              "size": 10,
              "solidity": 0.2
             }
            },
            "type": "histogram"
           }
          ],
          "histogram2d": [
           {
            "colorbar": {
             "outlinewidth": 0,
             "ticks": ""
            },
            "colorscale": [
             [
              0,
              "#0d0887"
             ],
             [
              0.1111111111111111,
              "#46039f"
             ],
             [
              0.2222222222222222,
              "#7201a8"
             ],
             [
              0.3333333333333333,
              "#9c179e"
             ],
             [
              0.4444444444444444,
              "#bd3786"
             ],
             [
              0.5555555555555556,
              "#d8576b"
             ],
             [
              0.6666666666666666,
              "#ed7953"
             ],
             [
              0.7777777777777778,
              "#fb9f3a"
             ],
             [
              0.8888888888888888,
              "#fdca26"
             ],
             [
              1,
              "#f0f921"
             ]
            ],
            "type": "histogram2d"
           }
          ],
          "histogram2dcontour": [
           {
            "colorbar": {
             "outlinewidth": 0,
             "ticks": ""
            },
            "colorscale": [
             [
              0,
              "#0d0887"
             ],
             [
              0.1111111111111111,
              "#46039f"
             ],
             [
              0.2222222222222222,
              "#7201a8"
             ],
             [
              0.3333333333333333,
              "#9c179e"
             ],
             [
              0.4444444444444444,
              "#bd3786"
             ],
             [
              0.5555555555555556,
              "#d8576b"
             ],
             [
              0.6666666666666666,
              "#ed7953"
             ],
             [
              0.7777777777777778,
              "#fb9f3a"
             ],
             [
              0.8888888888888888,
              "#fdca26"
             ],
             [
              1,
              "#f0f921"
             ]
            ],
            "type": "histogram2dcontour"
           }
          ],
          "mesh3d": [
           {
            "colorbar": {
             "outlinewidth": 0,
             "ticks": ""
            },
            "type": "mesh3d"
           }
          ],
          "parcoords": [
           {
            "line": {
             "colorbar": {
              "outlinewidth": 0,
              "ticks": ""
             }
            },
            "type": "parcoords"
           }
          ],
          "pie": [
           {
            "automargin": true,
            "type": "pie"
           }
          ],
          "scatter": [
           {
            "fillpattern": {
             "fillmode": "overlay",
             "size": 10,
             "solidity": 0.2
            },
            "type": "scatter"
           }
          ],
          "scatter3d": [
           {
            "line": {
             "colorbar": {
              "outlinewidth": 0,
              "ticks": ""
             }
            },
            "marker": {
             "colorbar": {
              "outlinewidth": 0,
              "ticks": ""
             }
            },
            "type": "scatter3d"
           }
          ],
          "scattercarpet": [
           {
            "marker": {
             "colorbar": {
              "outlinewidth": 0,
              "ticks": ""
             }
            },
            "type": "scattercarpet"
           }
          ],
          "scattergeo": [
           {
            "marker": {
             "colorbar": {
              "outlinewidth": 0,
              "ticks": ""
             }
            },
            "type": "scattergeo"
           }
          ],
          "scattergl": [
           {
            "marker": {
             "colorbar": {
              "outlinewidth": 0,
              "ticks": ""
             }
            },
            "type": "scattergl"
           }
          ],
          "scattermapbox": [
           {
            "marker": {
             "colorbar": {
              "outlinewidth": 0,
              "ticks": ""
             }
            },
            "type": "scattermapbox"
           }
          ],
          "scatterpolar": [
           {
            "marker": {
             "colorbar": {
              "outlinewidth": 0,
              "ticks": ""
             }
            },
            "type": "scatterpolar"
           }
          ],
          "scatterpolargl": [
           {
            "marker": {
             "colorbar": {
              "outlinewidth": 0,
              "ticks": ""
             }
            },
            "type": "scatterpolargl"
           }
          ],
          "scatterternary": [
           {
            "marker": {
             "colorbar": {
              "outlinewidth": 0,
              "ticks": ""
             }
            },
            "type": "scatterternary"
           }
          ],
          "surface": [
           {
            "colorbar": {
             "outlinewidth": 0,
             "ticks": ""
            },
            "colorscale": [
             [
              0,
              "#0d0887"
             ],
             [
              0.1111111111111111,
              "#46039f"
             ],
             [
              0.2222222222222222,
              "#7201a8"
             ],
             [
              0.3333333333333333,
              "#9c179e"
             ],
             [
              0.4444444444444444,
              "#bd3786"
             ],
             [
              0.5555555555555556,
              "#d8576b"
             ],
             [
              0.6666666666666666,
              "#ed7953"
             ],
             [
              0.7777777777777778,
              "#fb9f3a"
             ],
             [
              0.8888888888888888,
              "#fdca26"
             ],
             [
              1,
              "#f0f921"
             ]
            ],
            "type": "surface"
           }
          ],
          "table": [
           {
            "cells": {
             "fill": {
              "color": "#EBF0F8"
             },
             "line": {
              "color": "white"
             }
            },
            "header": {
             "fill": {
              "color": "#C8D4E3"
             },
             "line": {
              "color": "white"
             }
            },
            "type": "table"
           }
          ]
         },
         "layout": {
          "annotationdefaults": {
           "arrowcolor": "#2a3f5f",
           "arrowhead": 0,
           "arrowwidth": 1
          },
          "autotypenumbers": "strict",
          "coloraxis": {
           "colorbar": {
            "outlinewidth": 0,
            "ticks": ""
           }
          },
          "colorscale": {
           "diverging": [
            [
             0,
             "#8e0152"
            ],
            [
             0.1,
             "#c51b7d"
            ],
            [
             0.2,
             "#de77ae"
            ],
            [
             0.3,
             "#f1b6da"
            ],
            [
             0.4,
             "#fde0ef"
            ],
            [
             0.5,
             "#f7f7f7"
            ],
            [
             0.6,
             "#e6f5d0"
            ],
            [
             0.7,
             "#b8e186"
            ],
            [
             0.8,
             "#7fbc41"
            ],
            [
             0.9,
             "#4d9221"
            ],
            [
             1,
             "#276419"
            ]
           ],
           "sequential": [
            [
             0,
             "#0d0887"
            ],
            [
             0.1111111111111111,
             "#46039f"
            ],
            [
             0.2222222222222222,
             "#7201a8"
            ],
            [
             0.3333333333333333,
             "#9c179e"
            ],
            [
             0.4444444444444444,
             "#bd3786"
            ],
            [
             0.5555555555555556,
             "#d8576b"
            ],
            [
             0.6666666666666666,
             "#ed7953"
            ],
            [
             0.7777777777777778,
             "#fb9f3a"
            ],
            [
             0.8888888888888888,
             "#fdca26"
            ],
            [
             1,
             "#f0f921"
            ]
           ],
           "sequentialminus": [
            [
             0,
             "#0d0887"
            ],
            [
             0.1111111111111111,
             "#46039f"
            ],
            [
             0.2222222222222222,
             "#7201a8"
            ],
            [
             0.3333333333333333,
             "#9c179e"
            ],
            [
             0.4444444444444444,
             "#bd3786"
            ],
            [
             0.5555555555555556,
             "#d8576b"
            ],
            [
             0.6666666666666666,
             "#ed7953"
            ],
            [
             0.7777777777777778,
             "#fb9f3a"
            ],
            [
             0.8888888888888888,
             "#fdca26"
            ],
            [
             1,
             "#f0f921"
            ]
           ]
          },
          "colorway": [
           "#636efa",
           "#EF553B",
           "#00cc96",
           "#ab63fa",
           "#FFA15A",
           "#19d3f3",
           "#FF6692",
           "#B6E880",
           "#FF97FF",
           "#FECB52"
          ],
          "font": {
           "color": "#2a3f5f"
          },
          "geo": {
           "bgcolor": "white",
           "lakecolor": "white",
           "landcolor": "#E5ECF6",
           "showlakes": true,
           "showland": true,
           "subunitcolor": "white"
          },
          "hoverlabel": {
           "align": "left"
          },
          "hovermode": "closest",
          "mapbox": {
           "style": "light"
          },
          "paper_bgcolor": "white",
          "plot_bgcolor": "#E5ECF6",
          "polar": {
           "angularaxis": {
            "gridcolor": "white",
            "linecolor": "white",
            "ticks": ""
           },
           "bgcolor": "#E5ECF6",
           "radialaxis": {
            "gridcolor": "white",
            "linecolor": "white",
            "ticks": ""
           }
          },
          "scene": {
           "xaxis": {
            "backgroundcolor": "#E5ECF6",
            "gridcolor": "white",
            "gridwidth": 2,
            "linecolor": "white",
            "showbackground": true,
            "ticks": "",
            "zerolinecolor": "white"
           },
           "yaxis": {
            "backgroundcolor": "#E5ECF6",
            "gridcolor": "white",
            "gridwidth": 2,
            "linecolor": "white",
            "showbackground": true,
            "ticks": "",
            "zerolinecolor": "white"
           },
           "zaxis": {
            "backgroundcolor": "#E5ECF6",
            "gridcolor": "white",
            "gridwidth": 2,
            "linecolor": "white",
            "showbackground": true,
            "ticks": "",
            "zerolinecolor": "white"
           }
          },
          "shapedefaults": {
           "line": {
            "color": "#2a3f5f"
           }
          },
          "ternary": {
           "aaxis": {
            "gridcolor": "white",
            "linecolor": "white",
            "ticks": ""
           },
           "baxis": {
            "gridcolor": "white",
            "linecolor": "white",
            "ticks": ""
           },
           "bgcolor": "#E5ECF6",
           "caxis": {
            "gridcolor": "white",
            "linecolor": "white",
            "ticks": ""
           }
          },
          "title": {
           "x": 0.05
          },
          "xaxis": {
           "automargin": true,
           "gridcolor": "white",
           "linecolor": "white",
           "ticks": "",
           "title": {
            "standoff": 15
           },
           "zerolinecolor": "white",
           "zerolinewidth": 2
          },
          "yaxis": {
           "automargin": true,
           "gridcolor": "white",
           "linecolor": "white",
           "ticks": "",
           "title": {
            "standoff": 15
           },
           "zerolinecolor": "white",
           "zerolinewidth": 2
          }
         }
        },
        "xaxis": {
         "anchor": "y",
         "domain": [
          0,
          1
         ],
         "title": {
          "text": "Title"
         }
        },
        "yaxis": {
         "anchor": "x",
         "domain": [
          0,
          1
         ],
         "title": {
          "text": "IMDB Score"
         }
        }
       }
      }
     },
     "metadata": {},
     "output_type": "display_data"
    }
   ],
   "source": [
    "fig = px.bar(data, x=\"Title\", y=\"IMDB Score\")\n",
    "fig.show()"
   ]
  },
  {
   "cell_type": "code",
   "execution_count": null,
   "metadata": {},
   "outputs": [],
   "source": []
  }
 ],
 "metadata": {
  "kernelspec": {
   "display_name": "Python 3",
   "language": "python",
   "name": "python3"
  },
  "language_info": {
   "codemirror_mode": {
    "name": "ipython",
    "version": 3
   },
   "file_extension": ".py",
   "mimetype": "text/x-python",
   "name": "python",
   "nbconvert_exporter": "python",
   "pygments_lexer": "ipython3",
   "version": "3.11.6"
  }
 },
 "nbformat": 4,
 "nbformat_minor": 2
}
